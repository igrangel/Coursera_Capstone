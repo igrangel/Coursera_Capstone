{
 "cells": [
  {
   "cell_type": "markdown",
   "metadata": {
    "button": false,
    "new_sheet": false,
    "run_control": {
     "read_only": false
    }
   },
   "source": [
    "## Python Notebook for the Capstone Project in Coursera - Irlan Grangel Gonzalez"
   ]
  },
  {
   "cell_type": "markdown",
   "metadata": {},
   "source": [
    "### Description of the Problem \n",
    "Berling and Stuttgart are between the two of the most important cities in Germany. They are also important places for skilled people to work since many important companies have opportunities there. Both are multicultural as well as the financial hubs in Germany and in Europe as well. Typically, when a skilled worker decided to move to the city, not only the Job Offers matters but also the quality of life of the city. Our idea is to explore how much they are similar or dissimilar in aspects from a skilled worker point of view regarding companies, food, accommodation, beautiful places, and many more."
   ]
  },
  {
   "cell_type": "markdown",
   "metadata": {},
   "source": [
    "### Description of the Data\n",
    "\n",
    "For this problem, we will utilize the services of Foursquare API to explore the data of the two cities. The data include the information about the places around each neighborhood like restaurants, hotels, coffee shops, parks, theaters, art galleries, museums. We selected one Borough from each city to analyze their neighborhoods. \n",
    "\n",
    "\"Grunewald\" from Berlin and \"Degerloch\" from Stuttgart. We will use machine learning technique, “Clustering” to segment the neighborhoods with similar objects on the basis of each neighborhood data. These objects will be given priority on the basis of foot traffic (activity) in their respective neighborhoods. This will help to locate the tourist’s areas and hubs, and then we can judge the similarity or dissimilarity between two cities on that basis."
   ]
  }
 ],
 "metadata": {
  "celltoolbar": "Edit Metadata",
  "kernelspec": {
   "display_name": "Python 3",
   "language": "python",
   "name": "python3"
  },
  "language_info": {
   "codemirror_mode": {
    "name": "ipython",
    "version": 3
   },
   "file_extension": ".py",
   "mimetype": "text/x-python",
   "name": "python",
   "nbconvert_exporter": "python",
   "pygments_lexer": "ipython3",
   "version": "3.6.8"
  }
 },
 "nbformat": 4,
 "nbformat_minor": 2
}
